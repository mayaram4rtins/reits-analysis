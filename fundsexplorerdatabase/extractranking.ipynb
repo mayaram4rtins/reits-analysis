{
 "cells": [
  {
   "cell_type": "markdown",
   "metadata": {},
   "source": [
    "#### Libs"
   ]
  },
  {
   "cell_type": "code",
   "execution_count": 1,
   "metadata": {},
   "outputs": [
    {
     "name": "stderr",
     "output_type": "stream",
     "text": [
      "C:\\Users\\mayaram4rtins\\AppData\\Local\\Temp\\ipykernel_548\\2779027531.py:6: DeprecationWarning: \n",
      "Pyarrow will become a required dependency of pandas in the next major release of pandas (pandas 3.0),\n",
      "(to allow more performant data types, such as the Arrow string type, and better interoperability with other libraries)\n",
      "but was not found to be installed on your system.\n",
      "If this would cause problems for you,\n",
      "please provide us feedback at https://github.com/pandas-dev/pandas/issues/54466\n",
      "        \n",
      "  import pandas as pd\n"
     ]
    }
   ],
   "source": [
    "from selenium import webdriver\n",
    "from selenium.webdriver.common.by import By\n",
    "from selenium.webdriver.support.ui import WebDriverWait\n",
    "from selenium.webdriver.support import expected_conditions as EC\n",
    "from bs4 import BeautifulSoup\n",
    "import pandas as pd\n",
    "import time\n",
    "from io import StringIO "
   ]
  },
  {
   "cell_type": "markdown",
   "metadata": {},
   "source": [
    "#### Extract ranking from Funds Explorer and turn into a dataframe"
   ]
  },
  {
   "cell_type": "code",
   "execution_count": 2,
   "metadata": {},
   "outputs": [],
   "source": [
    "# Define url from funds explorer that contains the ranking\n",
    "url = \"https://www.fundsexplorer.com.br/ranking\""
   ]
  },
  {
   "cell_type": "code",
   "execution_count": 3,
   "metadata": {},
   "outputs": [],
   "source": [
    "# Initialize a Selenium WebDriver (make sure to have the appropriate driver installed, e.g., chromedriver)\n",
    "driver = webdriver.Chrome()  # You can use other drivers like Firefox, etc.\n",
    "\n",
    "# Fetch the URL using Selenium\n",
    "driver.get(url)\n",
    "\n",
    "# Wait for the page to load completely (You may need to adjust the wait time according to the page loading speed)\n",
    "time.sleep(10)  # Wait for 10 seconds (adjust as needed)\n",
    "\n",
    "# Scroll down using JavaScript\n",
    "driver.execute_script(\"window.scrollBy(0, 500);\")\n",
    "\n",
    "# Wait for some time to let the page load\n",
    "time.sleep(2)\n",
    "\n",
    "# Click in the dropdown filter for the selected columns and select all columns for the extraction\n",
    "dropdown = WebDriverWait(driver, 10).until(EC.element_to_be_clickable((By.ID, 'colunas-ranking__select-button')))\n",
    "dropdown.click()\n",
    "all_categories_option = WebDriverWait(driver, 10).until(EC.element_to_be_clickable((By.CSS_SELECTOR, \"input.colunas-ranking__selectItem + .checkmark\")))\n",
    "all_categories_option.click()\n",
    "\n",
    "# Wait for some time to let the page load\n",
    "time.sleep(10)\n",
    "\n",
    "# Get the page source after JavaScript has executed\n",
    "html = driver.page_source\n",
    "\n",
    "# Close the Selenium WebDriver\n",
    "driver.quit()"
   ]
  },
  {
   "cell_type": "code",
   "execution_count": 4,
   "metadata": {},
   "outputs": [],
   "source": [
    "# Parse the HTML content using BeautifulSoup\n",
    "soup = BeautifulSoup(html, 'html.parser')\n",
    "\n",
    "# Finding the table by its HTML tag (e.g., <table>)\n",
    "table = soup.find('table')"
   ]
  },
  {
   "cell_type": "code",
   "execution_count": 5,
   "metadata": {},
   "outputs": [
    {
     "name": "stdout",
     "output_type": "stream",
     "text": [
      "      Fundos                     Setor Preço Atual (R$) Liquidez Diária (R$)  \\\n",
      "0     AAZQ11                Indefinido              925           739.545,95   \n",
      "1     ABCP11                 Shoppings             8156            73.430,73   \n",
      "2     AFHI11                    Papéis             9809         1.166.050,43   \n",
      "3     AGRX11                    Outros             1057           552.267,16   \n",
      "4     AIEC11        Lajes Corporativas             5140           744.939,76   \n",
      "..       ...                       ...              ...                  ...   \n",
      "443   XTED11        Lajes Corporativas              882            17.641,88   \n",
      "444   YUFI11  Fundo de Desenvolvimento             9999                19250   \n",
      "445  YUFI11B                Indefinido              NaN                  NaN   \n",
      "446   ZAVI11                Indefinido            13258           550.132,32   \n",
      "447   ZIFI11  Fundo de Desenvolvimento            71000            14.595,70   \n",
      "\n",
      "    P/VP Último Dividendo Dividend Yield DY (3M) Acumulado DY (6M) Acumulado  \\\n",
      "0    096              012         1,28 %            3,92 %            7,79 %   \n",
      "1    081              082         1,08 %            2,87 %            5,33 %   \n",
      "2    101              095         0,96 %            2,99 %            6,19 %   \n",
      "3    NaN              014         1,31 %            4,05 %            8,13 %   \n",
      "4    061              017         0,31 %            4,03 %            7,62 %   \n",
      "..   ...              ...            ...               ...               ...   \n",
      "443  068             1116            NaN               NaN               NaN   \n",
      "444  098              039         0,00 %            0,00 %            0,00 %   \n",
      "445  NaN              063         0,00 %            0,00 %            0,00 %   \n",
      "446  099              132         1,00 %            2,92 %            5,67 %   \n",
      "447  059              331         0,00 %            0,00 %            0,00 %   \n",
      "\n",
      "    DY (12M) Acumulado  ... DY Patrimonial Variação Patrimonial  \\\n",
      "0              15,77 %  ...         1,25 %               0,00 %   \n",
      "1               9,72 %  ...         0,64 %              10,34 %   \n",
      "2              12,94 %  ...         1,03 %               1,87 %   \n",
      "3              17,12 %  ...            NaN                  NaN   \n",
      "4              14,72 %  ...         1,59 %             -10,30 %   \n",
      "..                 ...  ...            ...                  ...   \n",
      "443                NaN  ...         0,00 %              -0,36 %   \n",
      "444             1,09 %  ...            NaN                  NaN   \n",
      "445             0,00 %  ...         0,60 %              -0,01 %   \n",
      "446            10,91 %  ...            NaN                  NaN   \n",
      "447             0,00 %  ...            NaN                  NaN   \n",
      "\n",
      "    Rentab. Patr. Período Rentab. Patr. Acumulada Quant. Ativos Volatilidade  \\\n",
      "0                  0,00 %                  0,00 %             0         1346   \n",
      "1                 11,04 %                 18,95 %             1         1518   \n",
      "2                  2,93 %                  9,38 %             0          823   \n",
      "3                     NaN                     NaN             0         1503   \n",
      "4                 -8,88 %                 -7,82 %             4         1702   \n",
      "..                    ...                     ...           ...          ...   \n",
      "443               -0,36 %                 -3,45 %             1         2946   \n",
      "444                   NaN                     NaN            28        26487   \n",
      "445                0,59 %                  6,32 %             0          NaN   \n",
      "446                   NaN                     NaN            10         2198   \n",
      "447                   NaN                     NaN             0         8153   \n",
      "\n",
      "    Num. Cotistas Tax. Gestão Tax. Performance  Tax. Administração  \n",
      "0          26.265         NaN              NaN                 NaN  \n",
      "1          17.090         NaN              NaN                 NaN  \n",
      "2          29.705         NaN              NaN                 NaN  \n",
      "3               0         NaN              NaN                 NaN  \n",
      "4          17.606         NaN              NaN                 NaN  \n",
      "..            ...         ...              ...                 ...  \n",
      "443         4.098         NaN              NaN                 NaN  \n",
      "444            61         NaN              NaN                 NaN  \n",
      "445             0         NaN              NaN                 NaN  \n",
      "446         5.412         NaN              NaN                 NaN  \n",
      "447            66         NaN              NaN                 NaN  \n",
      "\n",
      "[448 rows x 30 columns]\n"
     ]
    }
   ],
   "source": [
    "if table:\n",
    "    # Extracting data from the table and converting it into a DataFrame\n",
    "    df = pd.read_html(StringIO(str(table)))[0]  # [0] is used to select the first table if there are multiple tables\n",
    "    \n",
    "    # Displaying the DataFrame\n",
    "    print(df)\n",
    "    df.to_excel('fundsexplorerranking.xlsx', index=False)\n",
    "else:\n",
    "    print(\"No table found on the webpage.\")"
   ]
  },
  {
   "cell_type": "code",
   "execution_count": null,
   "metadata": {},
   "outputs": [],
   "source": []
  }
 ],
 "metadata": {
  "kernelspec": {
   "display_name": "Python 3",
   "language": "python",
   "name": "python3"
  },
  "language_info": {
   "codemirror_mode": {
    "name": "ipython",
    "version": 3
   },
   "file_extension": ".py",
   "mimetype": "text/x-python",
   "name": "python",
   "nbconvert_exporter": "python",
   "pygments_lexer": "ipython3",
   "version": "3.11.1"
  }
 },
 "nbformat": 4,
 "nbformat_minor": 2
}
